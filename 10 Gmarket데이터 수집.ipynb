{
 "cells": [
  {
   "cell_type": "code",
   "execution_count": 1,
   "id": "5bf585c5",
   "metadata": {},
   "outputs": [],
   "source": [
    "from selenium import webdriver as wb\n",
    "import time"
   ]
  },
  {
   "cell_type": "code",
   "execution_count": 2,
   "id": "91ced577",
   "metadata": {},
   "outputs": [],
   "source": [
    "driver=wb.Chrome()\n",
    "driver.get(\"https://corners.gmarket.co.kr/Bestsellers\")"
   ]
  },
  {
   "cell_type": "code",
   "execution_count": 6,
   "id": "d60a3547",
   "metadata": {},
   "outputs": [],
   "source": [
    "#이미지태그들의 정보를 수집\n",
    "from selenium.webdriver.common.by import By\n",
    "img=driver.find_elements(By.CSS_SELECTOR,\"img.lazy\")"
   ]
  },
  {
   "cell_type": "code",
   "execution_count": 7,
   "id": "65314334",
   "metadata": {},
   "outputs": [],
   "source": [
    "img[0].click()"
   ]
  },
  {
   "cell_type": "code",
   "execution_count": 9,
   "id": "6d92a44f",
   "metadata": {},
   "outputs": [],
   "source": [
    "title=driver.find_element(By.CSS_SELECTOR,\"h1.itemtit\").text"
   ]
  },
  {
   "cell_type": "code",
   "execution_count": 10,
   "id": "fac00aa2",
   "metadata": {},
   "outputs": [
    {
     "data": {
      "text/plain": [
       "'수퍼맘스토리카페/2023년 최신판 원더스엔설러지/문학/과학/예술등 다양한작품을 한번에/맥그로힐출판사'"
      ]
     },
     "execution_count": 10,
     "metadata": {},
     "output_type": "execute_result"
    }
   ],
   "source": []
  },
  {
   "cell_type": "code",
   "execution_count": 11,
   "id": "790f237d",
   "metadata": {},
   "outputs": [],
   "source": [
    "price=driver.find_element(By.CSS_SELECTOR,\"strong.price_real\").text"
   ]
  },
  {
   "cell_type": "code",
   "execution_count": 12,
   "id": "9554991e",
   "metadata": {},
   "outputs": [],
   "source": [
    "category=driver.find_element(By.CSS_SELECTOR,\"li.on>a\").text"
   ]
  },
  {
   "cell_type": "code",
   "execution_count": 14,
   "id": "eb2e47d6",
   "metadata": {},
   "outputs": [],
   "source": [
    "#뒤로가기 버튼 실행\n",
    "driver.back()"
   ]
  },
  {
   "cell_type": "code",
   "execution_count": 16,
   "id": "73246c98",
   "metadata": {},
   "outputs": [],
   "source": [
    "driver=wb.Chrome()\n",
    "time.sleep(0.5)\n",
    "driver.get(\"https://corners.gmarket.co.kr/Bestsellers\")\n",
    "time.sleep(1)\n",
    "for i in range(10):\n",
    "    img=driver.find_elements(By.CSS_SELECTOR,\"img.lazy\")\n",
    "    img[i].click()\n",
    "    title=driver.find_element(By.CSS_SELECTOR,\"h1.itemtit\").text\n",
    "    price=driver.find_element(By.CSS_SELECTOR,\"strong.price_real\").text\n",
    "    category=driver.find_element(By.CSS_SELECTOR,\"li.on>a\").text\n",
    "    driver.back()\n",
    "    time.sleep(2)"
   ]
  },
  {
   "cell_type": "code",
   "execution_count": null,
   "id": "65b17ed6",
   "metadata": {},
   "outputs": [],
   "source": []
  }
 ],
 "metadata": {
  "kernelspec": {
   "display_name": "Python 3 (ipykernel)",
   "language": "python",
   "name": "python3"
  },
  "language_info": {
   "codemirror_mode": {
    "name": "ipython",
    "version": 3
   },
   "file_extension": ".py",
   "mimetype": "text/x-python",
   "name": "python",
   "nbconvert_exporter": "python",
   "pygments_lexer": "ipython3",
   "version": "3.9.7"
  }
 },
 "nbformat": 4,
 "nbformat_minor": 5
}
