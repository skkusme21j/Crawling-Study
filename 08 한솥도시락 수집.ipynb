{
 "cells": [
  {
   "cell_type": "code",
   "execution_count": 1,
   "id": "2c22ec34",
   "metadata": {},
   "outputs": [],
   "source": [
    "from selenium import webdriver as wb\n",
    "from selenium.webdriver.common.keys import Keys\n",
    "from selenium.webdriver.common.by import By\n",
    "import time\n",
    "import pandas as pd"
   ]
  },
  {
   "cell_type": "code",
   "execution_count": 2,
   "id": "773bf7aa",
   "metadata": {},
   "outputs": [],
   "source": [
    "driver=wb.Chrome()\n",
    "driver.get(\"https://www.hsd.co.kr/\")"
   ]
  },
  {
   "cell_type": "code",
   "execution_count": 8,
   "id": "8b830242",
   "metadata": {},
   "outputs": [
    {
     "data": {
      "text/plain": [
       "''"
      ]
     },
     "execution_count": 8,
     "metadata": {},
     "output_type": "execute_result"
    }
   ],
   "source": [
    "driver.find_element(By.CSS_SELECTOR, \"div.dp2 > ul > li:nth-child(1) > a\").text"
   ]
  },
  {
   "cell_type": "code",
   "execution_count": 4,
   "id": "b1a18a3e",
   "metadata": {},
   "outputs": [
    {
     "data": {
      "text/plain": [
       "''"
      ]
     },
     "execution_count": 4,
     "metadata": {},
     "output_type": "execute_result"
    }
   ],
   "source": [
    "#find_element 결과 list구조라서 인덱스와 함께\n",
    "driver.find_elements(By.CSS_SELECTOR, \"div.dp2 > ul > li:nth-child(1) > a\")[0].text"
   ]
  },
  {
   "cell_type": "code",
   "execution_count": 5,
   "id": "7b294415",
   "metadata": {},
   "outputs": [],
   "source": [
    "#이벤트 제어하는 라이브러리\n",
    "#ex) 마우스 올려두겠다, 클릭한 상태 유지하겠다, 드래그 앤 드롭\n",
    "from selenium.webdriver.common.action_chains import ActionChains"
   ]
  },
  {
   "cell_type": "code",
   "execution_count": 12,
   "id": "5e48c913",
   "metadata": {},
   "outputs": [],
   "source": [
    "# 1. 마우스 올릴 요소(메뉴)\n",
    "# 2. 클릭할 요소 (전체 메뉴)\n",
    "elm_hover=driver.find_element(By.CSS_SELECTOR, \"#gnb > div.gnb_menu > ul > li:nth-child(3) > p > a\")\n",
    "elm_click=driver.find_element(By.CSS_SELECTOR, \"#gnb > div.gnb_menu > ul > li:nth-child(3) > div > ul > li:nth-child(1) > a\")"
   ]
  },
  {
   "cell_type": "markdown",
   "id": "7b479dc0",
   "metadata": {},
   "source": [
    "actions=ActionChains(driver)\n",
    "actions.move_to_element(elm_hover)\n",
    "actions.click(elm_click)\n",
    "actions.perform()"
   ]
  },
  {
   "cell_type": "code",
   "execution_count": 11,
   "id": "a3c65404",
   "metadata": {
    "collapsed": true
   },
   "outputs": [
    {
     "ename": "AttributeError",
     "evalue": "move_to requires a WebElement",
     "output_type": "error",
     "traceback": [
      "\u001b[1;31m---------------------------------------------------------------------------\u001b[0m",
      "\u001b[1;31mAttributeError\u001b[0m                            Traceback (most recent call last)",
      "\u001b[1;32m~\\AppData\\Local\\Temp/ipykernel_3440/434856364.py\u001b[0m in \u001b[0;36m<module>\u001b[1;34m\u001b[0m\n\u001b[0;32m      1\u001b[0m \u001b[0mactions\u001b[0m\u001b[1;33m=\u001b[0m\u001b[0mActionChains\u001b[0m\u001b[1;33m(\u001b[0m\u001b[0mdriver\u001b[0m\u001b[1;33m)\u001b[0m\u001b[1;33m\u001b[0m\u001b[1;33m\u001b[0m\u001b[0m\n\u001b[1;32m----> 2\u001b[1;33m \u001b[0mactions\u001b[0m\u001b[1;33m.\u001b[0m\u001b[0mmove_to_element\u001b[0m\u001b[1;33m(\u001b[0m\u001b[0melm_hover\u001b[0m\u001b[1;33m)\u001b[0m\u001b[1;33m\u001b[0m\u001b[1;33m\u001b[0m\u001b[0m\n\u001b[0m\u001b[0;32m      3\u001b[0m \u001b[0mactions\u001b[0m\u001b[1;33m.\u001b[0m\u001b[0mclick\u001b[0m\u001b[1;33m(\u001b[0m\u001b[0melm_click\u001b[0m\u001b[1;33m)\u001b[0m\u001b[1;33m\u001b[0m\u001b[1;33m\u001b[0m\u001b[0m\n\u001b[0;32m      4\u001b[0m \u001b[0mactions\u001b[0m\u001b[1;33m.\u001b[0m\u001b[0mperform\u001b[0m\u001b[1;33m(\u001b[0m\u001b[1;33m)\u001b[0m\u001b[1;33m\u001b[0m\u001b[1;33m\u001b[0m\u001b[0m\n",
      "\u001b[1;32m~\\anaconda3\\lib\\site-packages\\selenium\\webdriver\\common\\action_chains.py\u001b[0m in \u001b[0;36mmove_to_element\u001b[1;34m(self, to_element)\u001b[0m\n\u001b[0;32m    248\u001b[0m         \"\"\"\n\u001b[0;32m    249\u001b[0m \u001b[1;33m\u001b[0m\u001b[0m\n\u001b[1;32m--> 250\u001b[1;33m         \u001b[0mself\u001b[0m\u001b[1;33m.\u001b[0m\u001b[0mw3c_actions\u001b[0m\u001b[1;33m.\u001b[0m\u001b[0mpointer_action\u001b[0m\u001b[1;33m.\u001b[0m\u001b[0mmove_to\u001b[0m\u001b[1;33m(\u001b[0m\u001b[0mto_element\u001b[0m\u001b[1;33m)\u001b[0m\u001b[1;33m\u001b[0m\u001b[1;33m\u001b[0m\u001b[0m\n\u001b[0m\u001b[0;32m    251\u001b[0m         \u001b[0mself\u001b[0m\u001b[1;33m.\u001b[0m\u001b[0mw3c_actions\u001b[0m\u001b[1;33m.\u001b[0m\u001b[0mkey_action\u001b[0m\u001b[1;33m.\u001b[0m\u001b[0mpause\u001b[0m\u001b[1;33m(\u001b[0m\u001b[1;33m)\u001b[0m\u001b[1;33m\u001b[0m\u001b[1;33m\u001b[0m\u001b[0m\n\u001b[0;32m    252\u001b[0m \u001b[1;33m\u001b[0m\u001b[0m\n",
      "\u001b[1;32m~\\anaconda3\\lib\\site-packages\\selenium\\webdriver\\common\\actions\\pointer_actions.py\u001b[0m in \u001b[0;36mmove_to\u001b[1;34m(self, element, x, y, width, height, pressure, tangential_pressure, tilt_x, tilt_y, twist, altitude_angle, azimuth_angle)\u001b[0m\n\u001b[0;32m     54\u001b[0m                 altitude_angle=None, azimuth_angle=None):\n\u001b[0;32m     55\u001b[0m         \u001b[1;32mif\u001b[0m \u001b[1;32mnot\u001b[0m \u001b[0misinstance\u001b[0m\u001b[1;33m(\u001b[0m\u001b[0melement\u001b[0m\u001b[1;33m,\u001b[0m \u001b[0mWebElement\u001b[0m\u001b[1;33m)\u001b[0m\u001b[1;33m:\u001b[0m\u001b[1;33m\u001b[0m\u001b[1;33m\u001b[0m\u001b[0m\n\u001b[1;32m---> 56\u001b[1;33m             \u001b[1;32mraise\u001b[0m \u001b[0mAttributeError\u001b[0m\u001b[1;33m(\u001b[0m\u001b[1;34m\"move_to requires a WebElement\"\u001b[0m\u001b[1;33m)\u001b[0m\u001b[1;33m\u001b[0m\u001b[1;33m\u001b[0m\u001b[0m\n\u001b[0m\u001b[0;32m     57\u001b[0m \u001b[1;33m\u001b[0m\u001b[0m\n\u001b[0;32m     58\u001b[0m         self.source.create_pointer_move(origin=element, duration=self._duration, x=int(x), y=int(y),\n",
      "\u001b[1;31mAttributeError\u001b[0m: move_to requires a WebElement"
     ]
    }
   ],
   "source": [
    "actions=ActionChains(driver)\n",
    "actions.move_to_element(elm_hover)\n",
    "actions.click(elm_click)\n",
    "actions.perform()"
   ]
  },
  {
   "cell_type": "code",
   "execution_count": 29,
   "id": "5cec79f0",
   "metadata": {},
   "outputs": [],
   "source": [
    "title=driver.find_elements(By.CSS_SELECTOR, \"h4.h.fz_03\")"
   ]
  },
  {
   "cell_type": "code",
   "execution_count": 30,
   "id": "a8fae548",
   "metadata": {
    "collapsed": true
   },
   "outputs": [
    {
     "data": {
      "text/plain": [
       "[<selenium.webdriver.remote.webelement.WebElement (session=\"dc72eae3f679d460c5995353ff817ffc\", element=\"4639379a-8b1f-4009-a068-03e1e649f8fa\")>,\n",
       " <selenium.webdriver.remote.webelement.WebElement (session=\"dc72eae3f679d460c5995353ff817ffc\", element=\"9acf84a7-a0a4-4191-a0a5-a0fb65afb4f8\")>,\n",
       " <selenium.webdriver.remote.webelement.WebElement (session=\"dc72eae3f679d460c5995353ff817ffc\", element=\"3d3332ef-659a-4898-8694-43cee20c7b6a\")>,\n",
       " <selenium.webdriver.remote.webelement.WebElement (session=\"dc72eae3f679d460c5995353ff817ffc\", element=\"b9807c10-395c-43f5-a099-c7c0b270fe60\")>,\n",
       " <selenium.webdriver.remote.webelement.WebElement (session=\"dc72eae3f679d460c5995353ff817ffc\", element=\"db3af79c-4a3b-4de2-9a7a-02994d7f8d7c\")>,\n",
       " <selenium.webdriver.remote.webelement.WebElement (session=\"dc72eae3f679d460c5995353ff817ffc\", element=\"be49f02c-0d56-4d73-9036-ba91a1d44329\")>,\n",
       " <selenium.webdriver.remote.webelement.WebElement (session=\"dc72eae3f679d460c5995353ff817ffc\", element=\"2964f931-b946-4496-80c9-957c160510af\")>,\n",
       " <selenium.webdriver.remote.webelement.WebElement (session=\"dc72eae3f679d460c5995353ff817ffc\", element=\"7a0f4f6f-fd16-4e19-91db-5b7980fd8f31\")>,\n",
       " <selenium.webdriver.remote.webelement.WebElement (session=\"dc72eae3f679d460c5995353ff817ffc\", element=\"7c01a7d9-dc89-446b-a7ce-6607cd65d8f4\")>,\n",
       " <selenium.webdriver.remote.webelement.WebElement (session=\"dc72eae3f679d460c5995353ff817ffc\", element=\"d8346032-61dc-455d-a2d0-a36e445663a2\")>,\n",
       " <selenium.webdriver.remote.webelement.WebElement (session=\"dc72eae3f679d460c5995353ff817ffc\", element=\"71894f78-f0ca-4319-8669-f79deb04f8cc\")>,\n",
       " <selenium.webdriver.remote.webelement.WebElement (session=\"dc72eae3f679d460c5995353ff817ffc\", element=\"7602b942-8fe1-419f-ac7f-0f5bac3b8e65\")>,\n",
       " <selenium.webdriver.remote.webelement.WebElement (session=\"dc72eae3f679d460c5995353ff817ffc\", element=\"ab3c7938-86bc-4c4e-8715-ab703d909bd4\")>,\n",
       " <selenium.webdriver.remote.webelement.WebElement (session=\"dc72eae3f679d460c5995353ff817ffc\", element=\"f14f6794-ba73-4eb2-b75e-d60a1c9e1980\")>,\n",
       " <selenium.webdriver.remote.webelement.WebElement (session=\"dc72eae3f679d460c5995353ff817ffc\", element=\"13e95e5d-4933-42c6-9aa4-90ef10410371\")>,\n",
       " <selenium.webdriver.remote.webelement.WebElement (session=\"dc72eae3f679d460c5995353ff817ffc\", element=\"067f55df-b963-4d7c-a76c-d519258a6f25\")>,\n",
       " <selenium.webdriver.remote.webelement.WebElement (session=\"dc72eae3f679d460c5995353ff817ffc\", element=\"01590cb2-3638-4d6a-be03-cf5ef4b61435\")>,\n",
       " <selenium.webdriver.remote.webelement.WebElement (session=\"dc72eae3f679d460c5995353ff817ffc\", element=\"ae9d96be-4bc4-478d-935d-e5c8adc147de\")>,\n",
       " <selenium.webdriver.remote.webelement.WebElement (session=\"dc72eae3f679d460c5995353ff817ffc\", element=\"898176ec-5cb2-427a-8ff7-94cb1b19e77a\")>,\n",
       " <selenium.webdriver.remote.webelement.WebElement (session=\"dc72eae3f679d460c5995353ff817ffc\", element=\"9bec7858-c66f-4dc8-826d-39490020a446\")>,\n",
       " <selenium.webdriver.remote.webelement.WebElement (session=\"dc72eae3f679d460c5995353ff817ffc\", element=\"73e89ec2-e30b-48d9-84ae-29e244158fb0\")>,\n",
       " <selenium.webdriver.remote.webelement.WebElement (session=\"dc72eae3f679d460c5995353ff817ffc\", element=\"85a08b85-b4cc-49ce-a6c5-0a813ff4e395\")>,\n",
       " <selenium.webdriver.remote.webelement.WebElement (session=\"dc72eae3f679d460c5995353ff817ffc\", element=\"40d68448-2e9a-4edf-b962-79f46f58a56d\")>,\n",
       " <selenium.webdriver.remote.webelement.WebElement (session=\"dc72eae3f679d460c5995353ff817ffc\", element=\"70a9c3a7-f0e5-4b7e-a3ad-a0462477c7d0\")>,\n",
       " <selenium.webdriver.remote.webelement.WebElement (session=\"dc72eae3f679d460c5995353ff817ffc\", element=\"31c4468b-e7a5-4b9e-8125-43ada2c5c5aa\")>,\n",
       " <selenium.webdriver.remote.webelement.WebElement (session=\"dc72eae3f679d460c5995353ff817ffc\", element=\"8d5ff816-d0ce-4382-a265-5750a2b40b62\")>,\n",
       " <selenium.webdriver.remote.webelement.WebElement (session=\"dc72eae3f679d460c5995353ff817ffc\", element=\"d34cc7be-04ca-4b36-9511-01846164a3ca\")>,\n",
       " <selenium.webdriver.remote.webelement.WebElement (session=\"dc72eae3f679d460c5995353ff817ffc\", element=\"9b345ab4-7356-4a3f-b742-cd32cf71bd69\")>,\n",
       " <selenium.webdriver.remote.webelement.WebElement (session=\"dc72eae3f679d460c5995353ff817ffc\", element=\"42fab399-e437-4521-b099-cdd26230e861\")>,\n",
       " <selenium.webdriver.remote.webelement.WebElement (session=\"dc72eae3f679d460c5995353ff817ffc\", element=\"a25a8881-276a-4bbe-a645-77021dba520f\")>,\n",
       " <selenium.webdriver.remote.webelement.WebElement (session=\"dc72eae3f679d460c5995353ff817ffc\", element=\"556cc825-5a3f-4f39-aa89-7e95214b1675\")>,\n",
       " <selenium.webdriver.remote.webelement.WebElement (session=\"dc72eae3f679d460c5995353ff817ffc\", element=\"bb893cd1-dc4d-4bd9-b340-b1dd0a4d74f3\")>,\n",
       " <selenium.webdriver.remote.webelement.WebElement (session=\"dc72eae3f679d460c5995353ff817ffc\", element=\"9669ac5a-5d0a-4953-80e1-7eaba6a1ac37\")>,\n",
       " <selenium.webdriver.remote.webelement.WebElement (session=\"dc72eae3f679d460c5995353ff817ffc\", element=\"841c5294-295b-437f-9745-0836dec89ffe\")>,\n",
       " <selenium.webdriver.remote.webelement.WebElement (session=\"dc72eae3f679d460c5995353ff817ffc\", element=\"064e900b-2dc4-493b-a884-c38274787e25\")>,\n",
       " <selenium.webdriver.remote.webelement.WebElement (session=\"dc72eae3f679d460c5995353ff817ffc\", element=\"a3657b38-9074-4efd-997f-6fde15e6cdf7\")>,\n",
       " <selenium.webdriver.remote.webelement.WebElement (session=\"dc72eae3f679d460c5995353ff817ffc\", element=\"7df13d80-b9e4-4230-9b41-76b513efd2ab\")>,\n",
       " <selenium.webdriver.remote.webelement.WebElement (session=\"dc72eae3f679d460c5995353ff817ffc\", element=\"4426f179-c50d-4cdd-bd13-5e08ea2c79ef\")>,\n",
       " <selenium.webdriver.remote.webelement.WebElement (session=\"dc72eae3f679d460c5995353ff817ffc\", element=\"85a942ed-e113-4e2e-857f-5476abf6ab1c\")>,\n",
       " <selenium.webdriver.remote.webelement.WebElement (session=\"dc72eae3f679d460c5995353ff817ffc\", element=\"1ca5c98d-ece6-4e17-bfad-86476ca381bd\")>,\n",
       " <selenium.webdriver.remote.webelement.WebElement (session=\"dc72eae3f679d460c5995353ff817ffc\", element=\"49272f30-7592-4536-acb0-1974d6856031\")>,\n",
       " <selenium.webdriver.remote.webelement.WebElement (session=\"dc72eae3f679d460c5995353ff817ffc\", element=\"c505fd22-0120-4288-87a7-affb72a050ee\")>,\n",
       " <selenium.webdriver.remote.webelement.WebElement (session=\"dc72eae3f679d460c5995353ff817ffc\", element=\"c3f9920d-b275-4c4a-bc3c-7f1c9313c351\")>,\n",
       " <selenium.webdriver.remote.webelement.WebElement (session=\"dc72eae3f679d460c5995353ff817ffc\", element=\"de0bd00c-986f-4d6b-a753-b2fad1896c68\")>,\n",
       " <selenium.webdriver.remote.webelement.WebElement (session=\"dc72eae3f679d460c5995353ff817ffc\", element=\"217bfb18-3e36-42ed-8aec-9cdec49f6a60\")>,\n",
       " <selenium.webdriver.remote.webelement.WebElement (session=\"dc72eae3f679d460c5995353ff817ffc\", element=\"8abfdbd0-4346-4f66-8c3a-e435e897e29e\")>,\n",
       " <selenium.webdriver.remote.webelement.WebElement (session=\"dc72eae3f679d460c5995353ff817ffc\", element=\"8089ed65-d25b-449c-b1ee-6694beb785d0\")>,\n",
       " <selenium.webdriver.remote.webelement.WebElement (session=\"dc72eae3f679d460c5995353ff817ffc\", element=\"76e49d01-0489-47f3-a05d-a53035209cf6\")>,\n",
       " <selenium.webdriver.remote.webelement.WebElement (session=\"dc72eae3f679d460c5995353ff817ffc\", element=\"7fca5105-6e4c-4fe9-8337-37eb916ecce5\")>,\n",
       " <selenium.webdriver.remote.webelement.WebElement (session=\"dc72eae3f679d460c5995353ff817ffc\", element=\"91fbb8fe-dd3c-4164-b385-18f01bc3f5dc\")>,\n",
       " <selenium.webdriver.remote.webelement.WebElement (session=\"dc72eae3f679d460c5995353ff817ffc\", element=\"3ff701c6-dbd4-4a69-b557-22ae906656a7\")>,\n",
       " <selenium.webdriver.remote.webelement.WebElement (session=\"dc72eae3f679d460c5995353ff817ffc\", element=\"54da2303-166e-4c1f-9ba7-45aef71be207\")>,\n",
       " <selenium.webdriver.remote.webelement.WebElement (session=\"dc72eae3f679d460c5995353ff817ffc\", element=\"4617a4ef-56be-45cd-889f-cb773a6108fd\")>,\n",
       " <selenium.webdriver.remote.webelement.WebElement (session=\"dc72eae3f679d460c5995353ff817ffc\", element=\"70b5f2be-ff9b-4128-b295-1bf0ed91a231\")>,\n",
       " <selenium.webdriver.remote.webelement.WebElement (session=\"dc72eae3f679d460c5995353ff817ffc\", element=\"2982e6ca-881d-4115-aa90-64e6466abfb7\")>,\n",
       " <selenium.webdriver.remote.webelement.WebElement (session=\"dc72eae3f679d460c5995353ff817ffc\", element=\"2217b3f7-5b51-4f8f-9e87-7c12948a0b08\")>,\n",
       " <selenium.webdriver.remote.webelement.WebElement (session=\"dc72eae3f679d460c5995353ff817ffc\", element=\"95e15b53-02d6-4567-92ff-799693675e42\")>,\n",
       " <selenium.webdriver.remote.webelement.WebElement (session=\"dc72eae3f679d460c5995353ff817ffc\", element=\"acc4b3c3-d676-4c51-b42c-a622c768f479\")>,\n",
       " <selenium.webdriver.remote.webelement.WebElement (session=\"dc72eae3f679d460c5995353ff817ffc\", element=\"0f578737-6e4f-4161-a7ad-afa46ac0b988\")>,\n",
       " <selenium.webdriver.remote.webelement.WebElement (session=\"dc72eae3f679d460c5995353ff817ffc\", element=\"589f1cbb-6c86-4e4d-93dc-d58c2bc58f84\")>,\n",
       " <selenium.webdriver.remote.webelement.WebElement (session=\"dc72eae3f679d460c5995353ff817ffc\", element=\"91bc3368-4a73-408e-8ccb-4c2a52b515e3\")>,\n",
       " <selenium.webdriver.remote.webelement.WebElement (session=\"dc72eae3f679d460c5995353ff817ffc\", element=\"786c5df5-f081-4d11-a221-351451bccf63\")>,\n",
       " <selenium.webdriver.remote.webelement.WebElement (session=\"dc72eae3f679d460c5995353ff817ffc\", element=\"44251e21-6d74-47f5-be0d-e55d0ca94e9a\")>,\n",
       " <selenium.webdriver.remote.webelement.WebElement (session=\"dc72eae3f679d460c5995353ff817ffc\", element=\"6ca70fde-11bf-49bf-8258-35361722bb58\")>,\n",
       " <selenium.webdriver.remote.webelement.WebElement (session=\"dc72eae3f679d460c5995353ff817ffc\", element=\"4392c54b-48c5-4d3e-b987-26104f7d1204\")>,\n",
       " <selenium.webdriver.remote.webelement.WebElement (session=\"dc72eae3f679d460c5995353ff817ffc\", element=\"1abb5ca2-8432-48bc-bb23-dc894bad44da\")>,\n",
       " <selenium.webdriver.remote.webelement.WebElement (session=\"dc72eae3f679d460c5995353ff817ffc\", element=\"48b70a99-c63d-4130-9241-e5e0fb860d73\")>,\n",
       " <selenium.webdriver.remote.webelement.WebElement (session=\"dc72eae3f679d460c5995353ff817ffc\", element=\"c5885e19-b316-4288-9405-caf0ead52a92\")>,\n",
       " <selenium.webdriver.remote.webelement.WebElement (session=\"dc72eae3f679d460c5995353ff817ffc\", element=\"c54bfa29-3853-4350-b613-6d96d0a1f90a\")>,\n",
       " <selenium.webdriver.remote.webelement.WebElement (session=\"dc72eae3f679d460c5995353ff817ffc\", element=\"94533117-2bdc-40ff-881e-71b169d29c59\")>,\n",
       " <selenium.webdriver.remote.webelement.WebElement (session=\"dc72eae3f679d460c5995353ff817ffc\", element=\"20315795-b6c6-43ee-8c5a-d0fef5d4deb2\")>,\n",
       " <selenium.webdriver.remote.webelement.WebElement (session=\"dc72eae3f679d460c5995353ff817ffc\", element=\"a1ae22c3-15bf-428e-a76d-4c9760fd5bba\")>,\n",
       " <selenium.webdriver.remote.webelement.WebElement (session=\"dc72eae3f679d460c5995353ff817ffc\", element=\"36b65560-71d7-4ecc-aa88-83c76e0784ea\")>,\n",
       " <selenium.webdriver.remote.webelement.WebElement (session=\"dc72eae3f679d460c5995353ff817ffc\", element=\"6277e3d4-cec1-4086-9dd8-0cab5a009413\")>,\n",
       " <selenium.webdriver.remote.webelement.WebElement (session=\"dc72eae3f679d460c5995353ff817ffc\", element=\"b525d311-69d5-45f4-a751-8618022f157c\")>,\n",
       " <selenium.webdriver.remote.webelement.WebElement (session=\"dc72eae3f679d460c5995353ff817ffc\", element=\"459277d2-7905-44df-a614-e56b571026fe\")>,\n",
       " <selenium.webdriver.remote.webelement.WebElement (session=\"dc72eae3f679d460c5995353ff817ffc\", element=\"aae538d0-0c18-436f-9e8e-1a25049e500a\")>,\n",
       " <selenium.webdriver.remote.webelement.WebElement (session=\"dc72eae3f679d460c5995353ff817ffc\", element=\"ea9fa473-ed44-45fe-82b9-ccede21b691e\")>,\n",
       " <selenium.webdriver.remote.webelement.WebElement (session=\"dc72eae3f679d460c5995353ff817ffc\", element=\"acff1505-4f2c-4744-a745-051e29eae324\")>,\n",
       " <selenium.webdriver.remote.webelement.WebElement (session=\"dc72eae3f679d460c5995353ff817ffc\", element=\"d61b4f9a-b042-4f51-9b70-dfc6cd06d5e9\")>,\n",
       " <selenium.webdriver.remote.webelement.WebElement (session=\"dc72eae3f679d460c5995353ff817ffc\", element=\"3e565789-8b61-4dcf-b5f7-a28d118c0247\")>,\n",
       " <selenium.webdriver.remote.webelement.WebElement (session=\"dc72eae3f679d460c5995353ff817ffc\", element=\"7ef98c8c-622a-435a-ae51-6ca5fe5f6cc0\")>,\n",
       " <selenium.webdriver.remote.webelement.WebElement (session=\"dc72eae3f679d460c5995353ff817ffc\", element=\"97ae4062-fe11-4520-8f0c-ae052db69fbb\")>,\n",
       " <selenium.webdriver.remote.webelement.WebElement (session=\"dc72eae3f679d460c5995353ff817ffc\", element=\"e5ccaad5-eff6-4b40-af1a-7519414309ae\")>,\n",
       " <selenium.webdriver.remote.webelement.WebElement (session=\"dc72eae3f679d460c5995353ff817ffc\", element=\"51958775-08a6-448c-b5fa-cf54868ec4c9\")>,\n",
       " <selenium.webdriver.remote.webelement.WebElement (session=\"dc72eae3f679d460c5995353ff817ffc\", element=\"859246b6-c50c-4e99-b4c7-4f22b00d46e6\")>,\n",
       " <selenium.webdriver.remote.webelement.WebElement (session=\"dc72eae3f679d460c5995353ff817ffc\", element=\"41791305-ba98-411b-b303-35d93051fe5d\")>,\n",
       " <selenium.webdriver.remote.webelement.WebElement (session=\"dc72eae3f679d460c5995353ff817ffc\", element=\"d047e9d2-bab5-4df8-b4d9-f27c61066c14\")>,\n",
       " <selenium.webdriver.remote.webelement.WebElement (session=\"dc72eae3f679d460c5995353ff817ffc\", element=\"3ef49652-7420-4a43-b382-b4b05184e72c\")>]"
      ]
     },
     "execution_count": 30,
     "metadata": {},
     "output_type": "execute_result"
    }
   ],
   "source": [
    "title"
   ]
  },
  {
   "cell_type": "code",
   "execution_count": 17,
   "id": "b01757cc",
   "metadata": {},
   "outputs": [
    {
     "data": {
      "text/plain": [
       "'더블함박'"
      ]
     },
     "execution_count": 17,
     "metadata": {},
     "output_type": "execute_result"
    }
   ],
   "source": [
    "title[0].text"
   ]
  },
  {
   "cell_type": "code",
   "execution_count": 31,
   "id": "c8adea9b",
   "metadata": {},
   "outputs": [],
   "source": [
    "price = driver.find_elements(By.CSS_SELECTOR,\"div.item-price > strong\")"
   ]
  },
  {
   "cell_type": "code",
   "execution_count": 19,
   "id": "686021cf",
   "metadata": {},
   "outputs": [
    {
     "data": {
      "text/plain": [
       "'6,700'"
      ]
     },
     "execution_count": 19,
     "metadata": {},
     "output_type": "execute_result"
    }
   ],
   "source": [
    "price[0].text"
   ]
  },
  {
   "cell_type": "code",
   "execution_count": 24,
   "id": "9b5ebc07",
   "metadata": {},
   "outputs": [],
   "source": [
    "# 더보기 버튼의 위치 알려주기\n",
    "#클릭하기 위해서\n",
    "btnMore = driver.find_element(By.CSS_SELECTOR,\"a.c_05\")\n",
    "btnMore.click()"
   ]
  },
  {
   "cell_type": "code",
   "execution_count": 26,
   "id": "433254e4",
   "metadata": {
    "collapsed": true
   },
   "outputs": [
    {
     "ename": "UnexpectedAlertPresentException",
     "evalue": "Alert Text: 일시적인 오류가 발생했습니다.\n화면을 새로고침 한 이후에 다시 시도해 주세요.\nMessage: unexpected alert open: {Alert text : 일시적인 오류가 발생했습니다.\n화면을 새로고침 한 이후에 다시 시도해 주세요.}\n  (Session info: chrome=106.0.5249.91)\nStacktrace:\nBacktrace:\n\tOrdinal0 [0x00DA1ED3+2236115]\n\tOrdinal0 [0x00D392F1+1807089]\n\tOrdinal0 [0x00C466FD+812797]\n\tOrdinal0 [0x00CA584E+1202254]\n\tOrdinal0 [0x00C918A6+1120422]\n\tOrdinal0 [0x00C6A73D+960317]\n\tOrdinal0 [0x00C6B71F+964383]\n\tGetHandleVerifier [0x0104E7E2+2743074]\n\tGetHandleVerifier [0x010408D4+2685972]\n\tGetHandleVerifier [0x00E32BAA+532202]\n\tGetHandleVerifier [0x00E31990+527568]\n\tOrdinal0 [0x00D4080C+1837068]\n\tOrdinal0 [0x00D44CD8+1854680]\n\tOrdinal0 [0x00D44DC5+1854917]\n\tOrdinal0 [0x00D4ED64+1895780]\n\tBaseThreadInitThunk [0x76206739+25]\n\tRtlGetFullPathName_UEx [0x77528FD2+1218]\n\tRtlGetFullPathName_UEx [0x77528F9D+1165]\n",
     "output_type": "error",
     "traceback": [
      "\u001b[1;31m---------------------------------------------------------------------------\u001b[0m",
      "\u001b[1;31mUnexpectedAlertPresentException\u001b[0m           Traceback (most recent call last)",
      "\u001b[1;32m~\\AppData\\Local\\Temp/ipykernel_3440/2148610573.py\u001b[0m in \u001b[0;36m<module>\u001b[1;34m\u001b[0m\n\u001b[0;32m      1\u001b[0m \u001b[1;32mfor\u001b[0m \u001b[0mi\u001b[0m \u001b[1;32min\u001b[0m \u001b[0mrange\u001b[0m\u001b[1;33m(\u001b[0m\u001b[1;36m10\u001b[0m\u001b[1;33m)\u001b[0m\u001b[1;33m:\u001b[0m\u001b[1;33m\u001b[0m\u001b[1;33m\u001b[0m\u001b[0m\n\u001b[1;32m----> 2\u001b[1;33m     \u001b[0mbtnMore\u001b[0m \u001b[1;33m=\u001b[0m \u001b[0mdriver\u001b[0m\u001b[1;33m.\u001b[0m\u001b[0mfind_element\u001b[0m\u001b[1;33m(\u001b[0m\u001b[0mBy\u001b[0m\u001b[1;33m.\u001b[0m\u001b[0mCSS_SELECTOR\u001b[0m\u001b[1;33m,\u001b[0m\u001b[1;34m\"a.c_05\"\u001b[0m\u001b[1;33m)\u001b[0m\u001b[1;33m\u001b[0m\u001b[1;33m\u001b[0m\u001b[0m\n\u001b[0m\u001b[0;32m      3\u001b[0m     \u001b[0mbtnMore\u001b[0m\u001b[1;33m.\u001b[0m\u001b[0mclick\u001b[0m\u001b[1;33m(\u001b[0m\u001b[1;33m)\u001b[0m\u001b[1;33m\u001b[0m\u001b[1;33m\u001b[0m\u001b[0m\n\u001b[0;32m      4\u001b[0m     \u001b[1;31m#time.sleep(\"\") = 몇초동안 코드 멈추겠다\u001b[0m\u001b[1;33m\u001b[0m\u001b[1;33m\u001b[0m\u001b[0m\n\u001b[0;32m      5\u001b[0m     \u001b[0mtime\u001b[0m\u001b[1;33m.\u001b[0m\u001b[0msleep\u001b[0m\u001b[1;33m(\u001b[0m\u001b[1;36m2\u001b[0m\u001b[1;33m)\u001b[0m\u001b[1;33m\u001b[0m\u001b[1;33m\u001b[0m\u001b[0m\n",
      "\u001b[1;32m~\\anaconda3\\lib\\site-packages\\selenium\\webdriver\\remote\\webdriver.py\u001b[0m in \u001b[0;36mfind_element\u001b[1;34m(self, by, value)\u001b[0m\n\u001b[0;32m    854\u001b[0m             \u001b[0mvalue\u001b[0m \u001b[1;33m=\u001b[0m \u001b[1;34m'[name=\"%s\"]'\u001b[0m \u001b[1;33m%\u001b[0m \u001b[0mvalue\u001b[0m\u001b[1;33m\u001b[0m\u001b[1;33m\u001b[0m\u001b[0m\n\u001b[0;32m    855\u001b[0m \u001b[1;33m\u001b[0m\u001b[0m\n\u001b[1;32m--> 856\u001b[1;33m         return self.execute(Command.FIND_ELEMENT, {\n\u001b[0m\u001b[0;32m    857\u001b[0m             \u001b[1;34m'using'\u001b[0m\u001b[1;33m:\u001b[0m \u001b[0mby\u001b[0m\u001b[1;33m,\u001b[0m\u001b[1;33m\u001b[0m\u001b[1;33m\u001b[0m\u001b[0m\n\u001b[0;32m    858\u001b[0m             'value': value})['value']\n",
      "\u001b[1;32m~\\anaconda3\\lib\\site-packages\\selenium\\webdriver\\remote\\webdriver.py\u001b[0m in \u001b[0;36mexecute\u001b[1;34m(self, driver_command, params)\u001b[0m\n\u001b[0;32m    427\u001b[0m         \u001b[0mresponse\u001b[0m \u001b[1;33m=\u001b[0m \u001b[0mself\u001b[0m\u001b[1;33m.\u001b[0m\u001b[0mcommand_executor\u001b[0m\u001b[1;33m.\u001b[0m\u001b[0mexecute\u001b[0m\u001b[1;33m(\u001b[0m\u001b[0mdriver_command\u001b[0m\u001b[1;33m,\u001b[0m \u001b[0mparams\u001b[0m\u001b[1;33m)\u001b[0m\u001b[1;33m\u001b[0m\u001b[1;33m\u001b[0m\u001b[0m\n\u001b[0;32m    428\u001b[0m         \u001b[1;32mif\u001b[0m \u001b[0mresponse\u001b[0m\u001b[1;33m:\u001b[0m\u001b[1;33m\u001b[0m\u001b[1;33m\u001b[0m\u001b[0m\n\u001b[1;32m--> 429\u001b[1;33m             \u001b[0mself\u001b[0m\u001b[1;33m.\u001b[0m\u001b[0merror_handler\u001b[0m\u001b[1;33m.\u001b[0m\u001b[0mcheck_response\u001b[0m\u001b[1;33m(\u001b[0m\u001b[0mresponse\u001b[0m\u001b[1;33m)\u001b[0m\u001b[1;33m\u001b[0m\u001b[1;33m\u001b[0m\u001b[0m\n\u001b[0m\u001b[0;32m    430\u001b[0m             response['value'] = self._unwrap_value(\n\u001b[0;32m    431\u001b[0m                 response.get('value', None))\n",
      "\u001b[1;32m~\\anaconda3\\lib\\site-packages\\selenium\\webdriver\\remote\\errorhandler.py\u001b[0m in \u001b[0;36mcheck_response\u001b[1;34m(self, response)\u001b[0m\n\u001b[0;32m    240\u001b[0m             \u001b[1;32melif\u001b[0m \u001b[1;34m'alert'\u001b[0m \u001b[1;32min\u001b[0m \u001b[0mvalue\u001b[0m\u001b[1;33m:\u001b[0m\u001b[1;33m\u001b[0m\u001b[1;33m\u001b[0m\u001b[0m\n\u001b[0;32m    241\u001b[0m                 \u001b[0malert_text\u001b[0m \u001b[1;33m=\u001b[0m \u001b[0mvalue\u001b[0m\u001b[1;33m[\u001b[0m\u001b[1;34m'alert'\u001b[0m\u001b[1;33m]\u001b[0m\u001b[1;33m.\u001b[0m\u001b[0mget\u001b[0m\u001b[1;33m(\u001b[0m\u001b[1;34m'text'\u001b[0m\u001b[1;33m)\u001b[0m\u001b[1;33m\u001b[0m\u001b[1;33m\u001b[0m\u001b[0m\n\u001b[1;32m--> 242\u001b[1;33m             \u001b[1;32mraise\u001b[0m \u001b[0mexception_class\u001b[0m\u001b[1;33m(\u001b[0m\u001b[0mmessage\u001b[0m\u001b[1;33m,\u001b[0m \u001b[0mscreen\u001b[0m\u001b[1;33m,\u001b[0m \u001b[0mstacktrace\u001b[0m\u001b[1;33m,\u001b[0m \u001b[0malert_text\u001b[0m\u001b[1;33m)\u001b[0m  \u001b[1;31m# type: ignore[call-arg]  # mypy is not smart enough here\u001b[0m\u001b[1;33m\u001b[0m\u001b[1;33m\u001b[0m\u001b[0m\n\u001b[0m\u001b[0;32m    243\u001b[0m         \u001b[1;32mraise\u001b[0m \u001b[0mexception_class\u001b[0m\u001b[1;33m(\u001b[0m\u001b[0mmessage\u001b[0m\u001b[1;33m,\u001b[0m \u001b[0mscreen\u001b[0m\u001b[1;33m,\u001b[0m \u001b[0mstacktrace\u001b[0m\u001b[1;33m)\u001b[0m\u001b[1;33m\u001b[0m\u001b[1;33m\u001b[0m\u001b[0m\n",
      "\u001b[1;31mUnexpectedAlertPresentException\u001b[0m: Alert Text: 일시적인 오류가 발생했습니다.\n화면을 새로고침 한 이후에 다시 시도해 주세요.\nMessage: unexpected alert open: {Alert text : 일시적인 오류가 발생했습니다.\n화면을 새로고침 한 이후에 다시 시도해 주세요.}\n  (Session info: chrome=106.0.5249.91)\nStacktrace:\nBacktrace:\n\tOrdinal0 [0x00DA1ED3+2236115]\n\tOrdinal0 [0x00D392F1+1807089]\n\tOrdinal0 [0x00C466FD+812797]\n\tOrdinal0 [0x00CA584E+1202254]\n\tOrdinal0 [0x00C918A6+1120422]\n\tOrdinal0 [0x00C6A73D+960317]\n\tOrdinal0 [0x00C6B71F+964383]\n\tGetHandleVerifier [0x0104E7E2+2743074]\n\tGetHandleVerifier [0x010408D4+2685972]\n\tGetHandleVerifier [0x00E32BAA+532202]\n\tGetHandleVerifier [0x00E31990+527568]\n\tOrdinal0 [0x00D4080C+1837068]\n\tOrdinal0 [0x00D44CD8+1854680]\n\tOrdinal0 [0x00D44DC5+1854917]\n\tOrdinal0 [0x00D4ED64+1895780]\n\tBaseThreadInitThunk [0x76206739+25]\n\tRtlGetFullPathName_UEx [0x77528FD2+1218]\n\tRtlGetFullPathName_UEx [0x77528F9D+1165]\n"
     ]
    }
   ],
   "source": [
    "for i in range(10):\n",
    "    btnMore = driver.find_element(By.CSS_SELECTOR,\"a.c_05\")\n",
    "    btnMore.click()\n",
    "    #time.sleep(\"\") = 몇초동안 코드 멈추겠다\n",
    "    time.sleep(2)"
   ]
  },
  {
   "cell_type": "markdown",
   "id": "1728690f",
   "metadata": {},
   "source": [
    "# 예외 처리\n",
    "- 오류가 나기 전까지 코드를 시도\n",
    "- 오류가 나면 오류가코드가 아니고 다른 로직을 실향\n",
    "- try, except"
   ]
  },
  {
   "cell_type": "code",
   "execution_count": 28,
   "id": "9bd4f6b1",
   "metadata": {},
   "outputs": [
    {
     "name": "stdout",
     "output_type": "stream",
     "text": [
      "더보기 버튼이 존재하지 않습니다.\n"
     ]
    }
   ],
   "source": [
    "try: \n",
    "    #에러가 나기 전까지 시도할 로직\n",
    "    for i in range(10):\n",
    "        btnMore = driver.find_element(By.CSS_SELECTOR,\"a.c_05\")\n",
    "        btnMore.click()\n",
    "        #time.sleep(\"\") = 몇초동안 코드 멈추겠다\n",
    "        time.sleep(2)\n",
    "except:\n",
    "    #에러가 났을 때 실행될 로직\n",
    "    print(\"더보기 버튼이 존재하지 않습니다.\")"
   ]
  },
  {
   "cell_type": "code",
   "execution_count": 32,
   "id": "7e2fde71",
   "metadata": {},
   "outputs": [],
   "source": [
    "# title,price 리스트 제작 완료\n",
    "# 비어있는 리스트에 순수한 텍스트 정보만 저장\n",
    "titleList=[]\n",
    "priceList=[]\n",
    "for i in range(len(title)):\n",
    "    titleList.append(title[i].text)\n",
    "    priceList.append(price[i].text)"
   ]
  },
  {
   "cell_type": "code",
   "execution_count": 33,
   "id": "5656b1d1",
   "metadata": {},
   "outputs": [],
   "source": [
    "data={\"메뉴명\": titleList, \"가격\": priceList}"
   ]
  },
  {
   "cell_type": "code",
   "execution_count": 36,
   "id": "d918ca50",
   "metadata": {},
   "outputs": [],
   "source": [
    "food=pd.DataFrame(data)"
   ]
  },
  {
   "cell_type": "code",
   "execution_count": 37,
   "id": "2f84e229",
   "metadata": {},
   "outputs": [],
   "source": [
    "food.to_csv(\"한솥.csv\", encoding='euc-kr')"
   ]
  },
  {
   "cell_type": "code",
   "execution_count": null,
   "id": "744e2573",
   "metadata": {},
   "outputs": [],
   "source": []
  }
 ],
 "metadata": {
  "kernelspec": {
   "display_name": "Python 3 (ipykernel)",
   "language": "python",
   "name": "python3"
  },
  "language_info": {
   "codemirror_mode": {
    "name": "ipython",
    "version": 3
   },
   "file_extension": ".py",
   "mimetype": "text/x-python",
   "name": "python",
   "nbconvert_exporter": "python",
   "pygments_lexer": "ipython3",
   "version": "3.9.7"
  }
 },
 "nbformat": 4,
 "nbformat_minor": 5
}
