{
 "cells": [
  {
   "cell_type": "code",
   "execution_count": 2,
   "id": "87ad9c0b",
   "metadata": {},
   "outputs": [],
   "source": [
    "import requests as req\n",
    "from bs4 import BeautifulSoup as bs\n",
    "import pandas as pd"
   ]
  },
  {
   "cell_type": "code",
   "execution_count": 10,
   "id": "049eb7fd",
   "metadata": {},
   "outputs": [],
   "source": [
    "# 1. 벅스차트 정보 요청\n",
    "res = req.get(\"https://music.bugs.co.kr/chart\")"
   ]
  },
  {
   "cell_type": "code",
   "execution_count": 12,
   "id": "55cda1a1",
   "metadata": {
    "scrolled": true
   },
   "outputs": [],
   "source": [
    "#2. 넘겨받은 데이터가 문자형태이기 때문에 컴퓨터 문자로 변형\n",
    "soup = bs(res.text, \"lxml\")"
   ]
  },
  {
   "cell_type": "code",
   "execution_count": 32,
   "id": "48744ac7",
   "metadata": {
    "scrolled": true
   },
   "outputs": [],
   "source": [
    "#3. 순위, 곡명, 가수명 수집\n",
    "# 내가 원하는 요소가 구분자(선택자) 존재하지 않으면 부모 태그를 검사해보자\n",
    "rank = soup.select(\"div.ranking > strong\")\n",
    "title = soup.select(\"p.title > a\")\n",
    "artist = soup.select(\"p.artist > a:nth-child(1)\")"
   ]
  },
  {
   "cell_type": "code",
   "execution_count": 35,
   "id": "7bfc65aa",
   "metadata": {},
   "outputs": [],
   "source": [
    "#4. 순수한 글자 정보만 담아줄 리스트 제작\n",
    "rankList=[]\n",
    "titleList=[]\n",
    "artistList=[]\n",
    "for i in range(len(rank)):\n",
    "    rankList.append(rank[i].text)\n",
    "    titleList.append(title[i].text)\n",
    "    artistList.append(artist[i].text)"
   ]
  },
  {
   "cell_type": "code",
   "execution_count": 39,
   "id": "612b499b",
   "metadata": {},
   "outputs": [],
   "source": [
    "#5. 순수한 글자 정보를 가지고 데이터프레임(표) > 딕셔너리데이터 제작\n",
    "data = {\"순위\": rankList, \"노래제목\": titleList, \"가수\": artistList}\n",
    "bugs = pd.DataFrame(data)"
   ]
  },
  {
   "cell_type": "code",
   "execution_count": 40,
   "id": "4ef6e1e1",
   "metadata": {
    "collapsed": true
   },
   "outputs": [
    {
     "data": {
      "text/html": [
       "<div>\n",
       "<style scoped>\n",
       "    .dataframe tbody tr th:only-of-type {\n",
       "        vertical-align: middle;\n",
       "    }\n",
       "\n",
       "    .dataframe tbody tr th {\n",
       "        vertical-align: top;\n",
       "    }\n",
       "\n",
       "    .dataframe thead th {\n",
       "        text-align: right;\n",
       "    }\n",
       "</style>\n",
       "<table border=\"1\" class=\"dataframe\">\n",
       "  <thead>\n",
       "    <tr style=\"text-align: right;\">\n",
       "      <th></th>\n",
       "      <th>노래제목</th>\n",
       "      <th>가수</th>\n",
       "    </tr>\n",
       "    <tr>\n",
       "      <th>순위</th>\n",
       "      <th></th>\n",
       "      <th></th>\n",
       "    </tr>\n",
       "  </thead>\n",
       "  <tbody>\n",
       "    <tr>\n",
       "      <th>1</th>\n",
       "      <td>Shut Down</td>\n",
       "      <td>BLACKPINK</td>\n",
       "    </tr>\n",
       "    <tr>\n",
       "      <th>2</th>\n",
       "      <td>After LIKE</td>\n",
       "      <td>IVE (아이브)</td>\n",
       "    </tr>\n",
       "    <tr>\n",
       "      <th>3</th>\n",
       "      <td>새삥 (Prod. ZICO) (Feat. 호미들)</td>\n",
       "      <td>지코</td>\n",
       "    </tr>\n",
       "    <tr>\n",
       "      <th>4</th>\n",
       "      <td>Hype Boy</td>\n",
       "      <td>NewJeans</td>\n",
       "    </tr>\n",
       "    <tr>\n",
       "      <th>5</th>\n",
       "      <td>Attention</td>\n",
       "      <td>NewJeans</td>\n",
       "    </tr>\n",
       "    <tr>\n",
       "      <th>...</th>\n",
       "      <td>...</td>\n",
       "      <td>...</td>\n",
       "    </tr>\n",
       "    <tr>\n",
       "      <th>96</th>\n",
       "      <td>너랑 나</td>\n",
       "      <td>아이유(IU)</td>\n",
       "    </tr>\n",
       "    <tr>\n",
       "      <th>97</th>\n",
       "      <td>Typa Girl</td>\n",
       "      <td>BLACKPINK</td>\n",
       "    </tr>\n",
       "    <tr>\n",
       "      <th>98</th>\n",
       "      <td>GROOVE (Prod. Czaer)</td>\n",
       "      <td>조광일</td>\n",
       "    </tr>\n",
       "    <tr>\n",
       "      <th>99</th>\n",
       "      <td>바보에게 바보가 (웹툰 '연애의 발견' X 이석훈)</td>\n",
       "      <td>이석훈</td>\n",
       "    </tr>\n",
       "    <tr>\n",
       "      <th>100</th>\n",
       "      <td>달라달라</td>\n",
       "      <td>ITZY (있지)</td>\n",
       "    </tr>\n",
       "  </tbody>\n",
       "</table>\n",
       "<p>100 rows × 2 columns</p>\n",
       "</div>"
      ],
      "text/plain": [
       "                             노래제목         가수\n",
       "순위                                          \n",
       "1                       Shut Down  BLACKPINK\n",
       "2                      After LIKE  IVE (아이브)\n",
       "3     새삥 (Prod. ZICO) (Feat. 호미들)         지코\n",
       "4                        Hype Boy   NewJeans\n",
       "5                       Attention   NewJeans\n",
       "..                            ...        ...\n",
       "96                           너랑 나    아이유(IU)\n",
       "97                      Typa Girl  BLACKPINK\n",
       "98           GROOVE (Prod. Czaer)        조광일\n",
       "99   바보에게 바보가 (웹툰 '연애의 발견' X 이석훈)        이석훈\n",
       "100                          달라달라  ITZY (있지)\n",
       "\n",
       "[100 rows x 2 columns]"
      ]
     },
     "execution_count": 40,
     "metadata": {},
     "output_type": "execute_result"
    }
   ],
   "source": [
    "bugs.set_index(\"순위\")"
   ]
  },
  {
   "cell_type": "code",
   "execution_count": 42,
   "id": "0d46964c",
   "metadata": {},
   "outputs": [],
   "source": [
    "#6. csv파일로 저장, html파일로 저장\n",
    "bugs.to_csv(\"벅스차트.csv\", encoding = \"euc-kr\")"
   ]
  },
  {
   "cell_type": "code",
   "execution_count": 43,
   "id": "2179c91a",
   "metadata": {},
   "outputs": [],
   "source": [
    "bugs.to_html(\"벅스차트.html\")"
   ]
  },
  {
   "cell_type": "code",
   "execution_count": null,
   "id": "4fc57fc7",
   "metadata": {},
   "outputs": [],
   "source": []
  }
 ],
 "metadata": {
  "kernelspec": {
   "display_name": "Python 3 (ipykernel)",
   "language": "python",
   "name": "python3"
  },
  "language_info": {
   "codemirror_mode": {
    "name": "ipython",
    "version": 3
   },
   "file_extension": ".py",
   "mimetype": "text/x-python",
   "name": "python",
   "nbconvert_exporter": "python",
   "pygments_lexer": "ipython3",
   "version": "3.9.7"
  }
 },
 "nbformat": 4,
 "nbformat_minor": 5
}
