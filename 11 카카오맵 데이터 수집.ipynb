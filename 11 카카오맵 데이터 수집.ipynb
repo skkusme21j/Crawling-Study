{
 "cells": [
  {
   "cell_type": "code",
   "execution_count": null,
   "id": "be6eccc2",
   "metadata": {},
   "outputs": [],
   "source": [
    "from selenium import webdriver as wb\n",
    "from bs4 import BeautifulSoup as bs\n",
    "import time\n",
    "from selenium.webdriver.common.by import By"
   ]
  },
  {
   "cell_type": "code",
   "execution_count": null,
   "id": "2f677b79",
   "metadata": {},
   "outputs": [],
   "source": [
    "driver=wb.Chrome()\n",
    "driver.get(\"https://map.kakao.com/\")"
   ]
  },
  {
   "cell_type": "code",
   "execution_count": null,
   "id": "4b1ce136",
   "metadata": {},
   "outputs": [],
   "source": [
    "#1. 검색창의 위치 알아오기 !\n",
    "#2. 혜화맛집이라는 키워드 입력\n",
    "#3. 검색 버튼 실행\n",
    "img=driver.find_element(By.CSS_SELECTOR,\"div.inner_coach_layer\")\n",
    "img.click()"
   ]
  },
  {
   "cell_type": "code",
   "execution_count": null,
   "id": "b5d6d6ba",
   "metadata": {},
   "outputs": [],
   "source": [
    "#선택자 . 키워드는 클래스값을 명시하는 방법\n",
    "# \".\" 문자 점으로 인식하고 싶을 때는 앞에 \\ 넣어주면 해결 가능!\n",
    "search=driver.find_element(By.CSS_SELECTOR,\"#search\\.keyword\\.query\")"
   ]
  },
  {
   "cell_type": "code",
   "execution_count": null,
   "id": "f88afc77",
   "metadata": {},
   "outputs": [],
   "source": [
    "search.send_keys(\"혜화맛집\")"
   ]
  },
  {
   "cell_type": "code",
   "execution_count": null,
   "id": "0c96f771",
   "metadata": {},
   "outputs": [],
   "source": [
    "searchBtn=driver.find_element(By.CSS_SELECTOR,\"#search\\.keyword\\.submit\")\n",
    "searchBtn.click()"
   ]
  },
  {
   "cell_type": "code",
   "execution_count": null,
   "id": "766c5966",
   "metadata": {},
   "outputs": [],
   "source": [
    "soup=bs(driver.page_source,\"lxml\")"
   ]
  },
  {
   "cell_type": "code",
   "execution_count": null,
   "id": "74cd9c52",
   "metadata": {},
   "outputs": [],
   "source": [
    "title=soup.select(\"a.link_name\")"
   ]
  },
  {
   "cell_type": "code",
   "execution_count": null,
   "id": "07598121",
   "metadata": {},
   "outputs": [],
   "source": [
    "for i in title:\n",
    "    print(i.text)"
   ]
  },
  {
   "cell_type": "code",
   "execution_count": null,
   "id": "f5f1fded",
   "metadata": {},
   "outputs": [],
   "source": [
    "# 불필요한 광고요소 추출해서 제거\n",
    "#extract()\n",
    "ad=soup.select(\"span.ico_ad\")\n",
    "for i in ad:\n",
    "    i.extract()"
   ]
  },
  {
   "cell_type": "code",
   "execution_count": null,
   "id": "fa105107",
   "metadata": {},
   "outputs": [],
   "source": [
    "#장소 더보기 버튼을 클릭\n",
    "btnmore=driver.find_element(By.CSS_SELECTOR,\"#info\\.search\\.place\\.more\")\n",
    "btnmore.click()"
   ]
  },
  {
   "cell_type": "code",
   "execution_count": null,
   "id": "eeb9a792",
   "metadata": {},
   "outputs": [],
   "source": [
    "#페이지 번호데이터 수집\n",
    "page=driver.find_elements(By.CSS_SELECTOR,\"#info\\.search\\.page>div>a\")"
   ]
  },
  {
   "cell_type": "code",
   "execution_count": null,
   "id": "2437f6b6",
   "metadata": {},
   "outputs": [],
   "source": [
    "try:\n",
    "    while True:\n",
    "        for i in range(6):\n",
    "            if(i<5):\n",
    "                page[i].click()\n",
    "                time.sleep(2)\n",
    "                soup=bs(driver.page_source,\"lxml\")\n",
    "                ad=soup.select(\"span.ico_ad\")\n",
    "                for i in ad:\n",
    "                    i.extract()\n",
    "                title=soup.select(\"a.link_name\")\n",
    "                for i in title:\n",
    "                    print(i.text)\n",
    "            else:\n",
    "                #마지막 페이지 클릭했을 때\n",
    "                #다음 버튼 클릭시키는 로직\n",
    "                btnnext=driver.find_element(By.CSS_SELECTOR,\"#info\\.search\\.page\\.next\")\n",
    "                btnnext.click()\n",
    "except:\n",
    "    print(\"수집이 완료되었습니다!\")"
   ]
  },
  {
   "cell_type": "code",
   "execution_count": null,
   "id": "c32e16eb",
   "metadata": {},
   "outputs": [],
   "source": []
  }
 ],
 "metadata": {
  "kernelspec": {
   "display_name": "Python 3 (ipykernel)",
   "language": "python",
   "name": "python3"
  },
  "language_info": {
   "codemirror_mode": {
    "name": "ipython",
    "version": 3
   },
   "file_extension": ".py",
   "mimetype": "text/x-python",
   "name": "python",
   "nbconvert_exporter": "python",
   "pygments_lexer": "ipython3",
   "version": "3.9.7"
  }
 },
 "nbformat": 4,
 "nbformat_minor": 5
}
