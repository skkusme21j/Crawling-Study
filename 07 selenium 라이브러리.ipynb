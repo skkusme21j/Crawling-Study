{
 "cells": [
  {
   "cell_type": "markdown",
   "id": "81924645",
   "metadata": {},
   "source": [
    "# Selenium 라이브러리\n",
    "- 웹브라우저를 자동으로 제어하는 라이브러리\n",
    "- 반드시 한 번 설치가 필요 !\n",
    "- webdriver = 브라우저의 역할을 해주는 라이브러리\n",
    "- Keys = 컴퓨터에게 키보드 역할을 해주는 라이브러리"
   ]
  },
  {
   "cell_type": "code",
   "execution_count": 1,
   "id": "e8bfc12c",
   "metadata": {
    "collapsed": true
   },
   "outputs": [
    {
     "name": "stdout",
     "output_type": "stream",
     "text": [
      "Collecting selenium\n",
      "  Downloading selenium-4.5.0-py3-none-any.whl (995 kB)\n",
      "     ------------------------------------- 995.2/995.2 kB 12.6 MB/s eta 0:00:00\n",
      "Requirement already satisfied: urllib3[socks]~=1.26 in c:\\users\\jsm03\\anaconda3\\lib\\site-packages (from selenium) (1.26.7)\n",
      "Collecting trio-websocket~=0.9\n",
      "  Using cached trio_websocket-0.9.2-py3-none-any.whl (16 kB)\n",
      "Collecting trio~=0.17\n",
      "  Downloading trio-0.22.0-py3-none-any.whl (384 kB)\n",
      "     ------------------------------------- 384.9/384.9 kB 25.0 MB/s eta 0:00:00\n",
      "Requirement already satisfied: certifi>=2021.10.8 in c:\\users\\jsm03\\anaconda3\\lib\\site-packages (from selenium) (2021.10.8)\n",
      "Requirement already satisfied: cffi>=1.14 in c:\\users\\jsm03\\anaconda3\\lib\\site-packages (from trio~=0.17->selenium) (1.14.6)\n",
      "Requirement already satisfied: async-generator>=1.9 in c:\\users\\jsm03\\anaconda3\\lib\\site-packages (from trio~=0.17->selenium) (1.10)\n",
      "Requirement already satisfied: sniffio in c:\\users\\jsm03\\anaconda3\\lib\\site-packages (from trio~=0.17->selenium) (1.2.0)\n",
      "Collecting exceptiongroup>=1.0.0rc9\n",
      "  Downloading exceptiongroup-1.0.0rc9-py3-none-any.whl (12 kB)\n",
      "Collecting outcome\n",
      "  Using cached outcome-1.2.0-py2.py3-none-any.whl (9.7 kB)\n",
      "Requirement already satisfied: sortedcontainers in c:\\users\\jsm03\\anaconda3\\lib\\site-packages (from trio~=0.17->selenium) (2.4.0)\n",
      "Requirement already satisfied: attrs>=19.2.0 in c:\\users\\jsm03\\anaconda3\\lib\\site-packages (from trio~=0.17->selenium) (21.2.0)\n",
      "Requirement already satisfied: idna in c:\\users\\jsm03\\anaconda3\\lib\\site-packages (from trio~=0.17->selenium) (3.2)\n",
      "Collecting wsproto>=0.14\n",
      "  Using cached wsproto-1.2.0-py3-none-any.whl (24 kB)\n",
      "Requirement already satisfied: PySocks!=1.5.7,<2.0,>=1.5.6 in c:\\users\\jsm03\\anaconda3\\lib\\site-packages (from urllib3[socks]~=1.26->selenium) (1.7.1)\n",
      "Requirement already satisfied: pycparser in c:\\users\\jsm03\\anaconda3\\lib\\site-packages (from cffi>=1.14->trio~=0.17->selenium) (2.20)\n",
      "Collecting h11<1,>=0.9.0\n",
      "  Downloading h11-0.14.0-py3-none-any.whl (58 kB)\n",
      "     ---------------------------------------- 58.3/58.3 kB ? eta 0:00:00\n",
      "Installing collected packages: outcome, h11, exceptiongroup, wsproto, trio, trio-websocket, selenium\n",
      "Successfully installed exceptiongroup-1.0.0rc9 h11-0.14.0 outcome-1.2.0 selenium-4.5.0 trio-0.22.0 trio-websocket-0.9.2 wsproto-1.2.0\n"
     ]
    }
   ],
   "source": [
    "!pip install selenium"
   ]
  },
  {
   "cell_type": "code",
   "execution_count": 2,
   "id": "67b6f22b",
   "metadata": {},
   "outputs": [],
   "source": [
    "from selenium import webdriver as wb\n",
    "from selenium.webdriver.common.keys import Keys"
   ]
  },
  {
   "cell_type": "code",
   "execution_count": 5,
   "id": "283db64b",
   "metadata": {},
   "outputs": [],
   "source": [
    "# 컴퓨터야 wb 통해서 크롬브라우저 실행시켜줘\n",
    "# 크롬창을 실행하는 명령어는 wb.Crome()\n",
    "# .get(\"URL\")\n",
    "driver=wb.Chrome()\n",
    "driver.get(\"http://www.naver.com\")"
   ]
  },
  {
   "cell_type": "code",
   "execution_count": 6,
   "id": "e024b88b",
   "metadata": {},
   "outputs": [],
   "source": [
    "# 드라이버야 내가 아이디가 query인 요소 좀 찾아줘\n",
    "from selenium.webdriver.common.by import By \n",
    "search=driver.find_element(By.ID, 'query')"
   ]
  },
  {
   "cell_type": "code",
   "execution_count": 7,
   "id": "644695cb",
   "metadata": {},
   "outputs": [],
   "source": [
    "#search한테 코로나 글자 보내줘\n",
    "#키값을 보내는 경우에는 send_keys()\n",
    "search.send_keys(\"코로나\")"
   ]
  },
  {
   "cell_type": "code",
   "execution_count": 8,
   "id": "13f66ca9",
   "metadata": {},
   "outputs": [],
   "source": [
    "# enter치는 방법\n",
    "search.send_keys(Keys.ENTER)"
   ]
  },
  {
   "cell_type": "code",
   "execution_count": 9,
   "id": "1125688d",
   "metadata": {},
   "outputs": [],
   "source": [
    "# 뒤로 가기 버튼 실행\n",
    "driver.back()"
   ]
  },
  {
   "cell_type": "code",
   "execution_count": 10,
   "id": "233f5692",
   "metadata": {},
   "outputs": [],
   "source": [
    "# 클릭을 하는 방법\n",
    "btn=driver.find_element(By.ID, 'search_btn')"
   ]
  },
  {
   "cell_type": "code",
   "execution_count": 11,
   "id": "7b0dbf89",
   "metadata": {},
   "outputs": [],
   "source": [
    "btn.click()"
   ]
  },
  {
   "cell_type": "code",
   "execution_count": 12,
   "id": "887bb340",
   "metadata": {},
   "outputs": [],
   "source": [
    "#창을 종료하는 법\n",
    "driver.quit()"
   ]
  },
  {
   "cell_type": "code",
   "execution_count": null,
   "id": "b8458f50",
   "metadata": {},
   "outputs": [],
   "source": []
  }
 ],
 "metadata": {
  "kernelspec": {
   "display_name": "Python 3 (ipykernel)",
   "language": "python",
   "name": "python3"
  },
  "language_info": {
   "codemirror_mode": {
    "name": "ipython",
    "version": 3
   },
   "file_extension": ".py",
   "mimetype": "text/x-python",
   "name": "python",
   "nbconvert_exporter": "python",
   "pygments_lexer": "ipython3",
   "version": "3.9.7"
  }
 },
 "nbformat": 4,
 "nbformat_minor": 5
}
