{
 "cells": [
  {
   "cell_type": "code",
   "execution_count": null,
   "id": "5eab9795",
   "metadata": {},
   "outputs": [],
   "source": [
    "import requests as req\n",
    "from bs4 import BeautifulSoup as bs"
   ]
  },
  {
   "cell_type": "code",
   "execution_count": null,
   "id": "0c9718ed",
   "metadata": {},
   "outputs": [],
   "source": [
    "#1. 네이버 금융 사이트에서 코스피 Top 100사이트의 정보 요청\n",
    "res = req.get(\"https://finance.naver.com/sise/sise_quant.naver\")"
   ]
  },
  {
   "cell_type": "raw",
   "id": "4d83d0ea",
   "metadata": {},
   "source": [
    "res.text"
   ]
  },
  {
   "cell_type": "code",
   "execution_count": null,
   "id": "28b17341",
   "metadata": {},
   "outputs": [],
   "source": [
    "res.text"
   ]
  },
  {
   "cell_type": "code",
   "execution_count": null,
   "id": "946fdc92",
   "metadata": {},
   "outputs": [],
   "source": [
    "#사용자가 받아온 텍스트 데이터를 컴퓨터용 언어로 변형 \n",
    "#html언어로 변경 > bs 라이브러리!\n",
    "soup = bs(res.text,\"lxml\")"
   ]
  },
  {
   "cell_type": "code",
   "execution_count": null,
   "id": "cb7b4b85",
   "metadata": {},
   "outputs": [],
   "source": [
    "#3 soup 데이터에서 내가 필요한 요소 찾아오기 !\n",
    "title = soup.select(\"a.tltle\")"
   ]
  },
  {
   "cell_type": "code",
   "execution_count": null,
   "id": "f561f937",
   "metadata": {},
   "outputs": [],
   "source": [
    "price = soup.select(\"td.number:nth-child(3)\")"
   ]
  },
  {
   "cell_type": "code",
   "execution_count": null,
   "id": "130160d2",
   "metadata": {},
   "outputs": [],
   "source": [
    "volume = soup.select(\"td.number:nth-child(6)\")"
   ]
  },
  {
   "cell_type": "code",
   "execution_count": null,
   "id": "33f8c6ed",
   "metadata": {},
   "outputs": [],
   "source": [
    "for i in range(len(price)):\n",
    "    print(volume[i].text)"
   ]
  },
  {
   "cell_type": "code",
   "execution_count": null,
   "id": "1e4274d7",
   "metadata": {},
   "outputs": [],
   "source": [
    "#4. 데이터의 개수가 정확한지 꼭 확인 !\n",
    "#리스트의 데이터 길이를 확인 ! > len()\n",
    "len(volume)"
   ]
  },
  {
   "cell_type": "code",
   "execution_count": null,
   "id": "a781df3f",
   "metadata": {},
   "outputs": [],
   "source": [
    "#  title, price, volume 리스트에서 순수한 글자 정보만 추출한 리스트를 새로 제작\n",
    "titleList =[]\n",
    "priceList=[]\n",
    "volumeList=[]\n",
    "for i in range(len(title)):\n",
    "    titleList.append(title[i].text)\n",
    "    priceList.append(price[i].text)\n",
    "    volumeList.append(volume[i].text)"
   ]
  },
  {
   "cell_type": "code",
   "execution_count": null,
   "id": "52709634",
   "metadata": {},
   "outputs": [],
   "source": [
    "len(volumeList)"
   ]
  },
  {
   "cell_type": "markdown",
   "id": "243cbca1",
   "metadata": {},
   "source": [
    "# 정제된(수순한 글자)데이터를 표 형식 제작"
   ]
  },
  {
   "cell_type": "code",
   "execution_count": null,
   "id": "3a7ae220",
   "metadata": {},
   "outputs": [],
   "source": [
    "import pandas as pd"
   ]
  },
  {
   "cell_type": "code",
   "execution_count": null,
   "id": "7dba94a8",
   "metadata": {},
   "outputs": [],
   "source": [
    "data={\"종목명\": titleList, \"가격정보\": priceList, \"거래량\": volumeList}"
   ]
  },
  {
   "cell_type": "code",
   "execution_count": null,
   "id": "d91ec0bc",
   "metadata": {},
   "outputs": [],
   "source": [
    "kospi = pd.DataFrame(data)"
   ]
  },
  {
   "cell_type": "code",
   "execution_count": null,
   "id": "ab58a283",
   "metadata": {},
   "outputs": [],
   "source": [
    "# 1. euc-kr\n",
    "# 2. \"\"\n",
    "# 3. utf-8-sig\n",
    "kospi.to_csv(\"코스피데이터.csv\", encoding = \"utf-8-sig\")"
   ]
  },
  {
   "cell_type": "code",
   "execution_count": null,
   "id": "d4f1baac",
   "metadata": {},
   "outputs": [],
   "source": []
  }
 ],
 "metadata": {
  "kernelspec": {
   "display_name": "Python 3 (ipykernel)",
   "language": "python",
   "name": "python3"
  },
  "language_info": {
   "codemirror_mode": {
    "name": "ipython",
    "version": 3
   },
   "file_extension": ".py",
   "mimetype": "text/x-python",
   "name": "python",
   "nbconvert_exporter": "python",
   "pygments_lexer": "ipython3",
   "version": "3.9.7"
  }
 },
 "nbformat": 4,
 "nbformat_minor": 5
}
