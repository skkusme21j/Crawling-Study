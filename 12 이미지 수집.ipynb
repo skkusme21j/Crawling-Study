{
 "cells": [
  {
   "cell_type": "code",
   "execution_count": 1,
   "id": "2a032d3b",
   "metadata": {},
   "outputs": [],
   "source": [
    "from selenium import webdriver as wb\n",
    "from selenium.webdriver.common.keys import Keys\n",
    "import time\n",
    "from selenium.webdriver.common.by import By\n",
    "#파일 시스템을 위한 라이브러리(파일, 폴더를 생성, 삭제)\n",
    "import os\n",
    "# 이미지의 url 값을 파일로 변형시켜주는 라이브러리\n",
    "from urllib.request import urlretrieve"
   ]
  },
  {
   "cell_type": "code",
   "execution_count": 2,
   "id": "b1566eb1",
   "metadata": {},
   "outputs": [],
   "source": [
    "driver=wb.Chrome()\n",
    "driver.get(\"http://www.naver.com\")"
   ]
  },
  {
   "cell_type": "code",
   "execution_count": 3,
   "id": "0e739e98",
   "metadata": {},
   "outputs": [],
   "source": [
    "search=driver.find_element(By.ID,\"query\")\n",
    "search.send_keys(\"태연\")"
   ]
  },
  {
   "cell_type": "code",
   "execution_count": 4,
   "id": "d6b11c2c",
   "metadata": {},
   "outputs": [],
   "source": [
    "search.send_keys(Keys.ENTER)"
   ]
  },
  {
   "cell_type": "code",
   "execution_count": 5,
   "id": "a44bcf22",
   "metadata": {},
   "outputs": [],
   "source": [
    "imgbtn=driver.find_element(By.CSS_SELECTOR,\"ul.base>li:nth-child(2)\")\n",
    "imgbtn.click()"
   ]
  },
  {
   "cell_type": "code",
   "execution_count": 14,
   "id": "e5ebbc27",
   "metadata": {},
   "outputs": [],
   "source": [
    "#이미지 태그들 수집\n",
    "# 그 요소 안에 src속성 정보만 다시 추출, 수집\n",
    "img=driver.find_elements(By.CSS_SELECTOR,\"img._image._listImage\")"
   ]
  },
  {
   "cell_type": "code",
   "execution_count": 15,
   "id": "a6d09fb4",
   "metadata": {},
   "outputs": [
    {
     "data": {
      "text/plain": [
       "'https://search.pstatic.net/common/?src=http%3A%2F%2Fblogfiles.naver.net%2FMjAyMjA4MjlfNTIg%2FMDAxNjYxNzQ0NjM5MDcw.k-E664NLE_oK-Sc-TEoAmNsWEmLATQdJHR5zUghMCOAg.XliVFaSfMpmBZWzkmQohS1Mi4M0mL7m0rQ32w8tYzgsg.PNG.lotsyou%2FKakaoTalk_20220829_111611635_17.png&type=a340'"
      ]
     },
     "execution_count": 15,
     "metadata": {},
     "output_type": "execute_result"
    }
   ],
   "source": [
    "#너가 들고 온 요소에서 속성 좀 가져다주라 ! src 속성 가져오면 된다 !\n",
    "img[0].get_attribute(\"src\")"
   ]
  },
  {
   "cell_type": "code",
   "execution_count": 16,
   "id": "73c8c1bb",
   "metadata": {},
   "outputs": [],
   "source": [
    "#imgUrl 순수한 src값들만 저장\n",
    "imgUrl=[]\n",
    "for i in img:\n",
    "    imgUrl.append(i.get_attribute(\"src\"))"
   ]
  },
  {
   "cell_type": "code",
   "execution_count": 10,
   "id": "36424ff0",
   "metadata": {
    "collapsed": true
   },
   "outputs": [
    {
     "data": {
      "text/plain": [
       "['https://search.pstatic.net/common/?src=http%3A%2F%2Fblogfiles.naver.net%2FMjAyMjA4MjlfNTIg%2FMDAxNjYxNzQ0NjM5MDcw.k-E664NLE_oK-Sc-TEoAmNsWEmLATQdJHR5zUghMCOAg.XliVFaSfMpmBZWzkmQohS1Mi4M0mL7m0rQ32w8tYzgsg.PNG.lotsyou%2FKakaoTalk_20220829_111611635_17.png&type=a340',\n",
       " 'https://search.pstatic.net/common/?src=http%3A%2F%2Fblogfiles.naver.net%2FMjAyMjA5MDZfMTQg%2FMDAxNjYyNDUwMzE4OTE5.EVrf3Gn9YJHzZYL59pfhuRMg2hQbgdGYt-KZ88sEW-gg.STd2xFicEnKmibz5gpcZ2m-GqXUZk1eLq8lG86jrcfUg.JPEG.lisa335120%2FIMG_1002.JPG&type=a340',\n",
       " 'https://search.pstatic.net/sunny/?src=https%3A%2F%2Fthumb.mtstarnews.com%2F21%2F2014%2F10%2F2014103108540246773_1.jpg%2Fdims%2Fresize%2F1200%2Fcrop%2F1200x630%21%2Foptimize&type=l340_165',\n",
       " 'https://search.pstatic.net/common/?src=http%3A%2F%2Fblogfiles.naver.net%2FMjAyMjA5MjdfMTcw%2FMDAxNjY0MjYyNzU3Nzcy.KRDsoK1B_0jzjyo-l3hD1BOZXIibR5-aMVG-aBcRvbQg.3batWHzPR2SYBbSQYDnwZTN95AOnX9U_KChqkvggOfog.PNG.gpdbs01%2F%25C5%25C2%25BF%25AC%25B1%25CD%25B0%25C9%25C0%25CC_%25288%2529.png&type=a340',\n",
       " 'https://search.pstatic.net/common/?src=http%3A%2F%2Fblogfiles.naver.net%2FMjAyMjA2MTRfNjkg%2FMDAxNjU1MTkwNTExOTEx.pEj637cD5xVkhijTAY56UiIlsH-9orC7A252MKxprUIg.bJnHYzMxkp7IkFnd0O3UIGZU82NcNrApUWe3CsspwTsg.JPEG.tenma1004%2F7e260fa457367409541722fb8213f3cc.jpg&type=a340',\n",
       " 'https://search.pstatic.net/common/?src=http%3A%2F%2Fimgnews.naver.net%2Fimage%2F396%2F2022%2F11%2F04%2F0000627929_001_20221104114701578.jpg&type=a340',\n",
       " 'https://search.pstatic.net/common/?src=http%3A%2F%2Fimgnews.naver.net%2Fimage%2F421%2F2022%2F11%2F10%2F0006450194_001_20221110154707042.jpg&type=l340_165',\n",
       " 'https://search.pstatic.net/common/?src=http%3A%2F%2Fblogfiles.naver.net%2FMjAyMjA4MjBfMzAw%2FMDAxNjYwOTUyOTY4MzI5.9O1OW9zVpNOqGfCoR--udVItyJH3KtOwQUFAM9FVBaog.TqxAxr914JsPQc9lMoMlVu3NngDeLBrMAHE2ZYtJafkg.JPEG.bo752%2F299794335%25A3%25DF765556764590098%25A3%25DF6097323003914122569%25A3%25DFn.jpg&type=a340',\n",
       " 'https://search.pstatic.net/common/?src=http%3A%2F%2Fimgnews.naver.net%2Fimage%2F213%2F2022%2F11%2F07%2F0001233331_008_20221107060106197.jpg&type=a340',\n",
       " 'https://search.pstatic.net/common/?src=http%3A%2F%2Fblogfiles.naver.net%2FMjAyMjA5MDZfODAg%2FMDAxNjYyNDM5Nzk5MTg5.tQJq0bLMKPOO3EbhPM4_v9xg7Z4b97lQu9daM4S8K3sg.GxU60qPC9224Kigoa-apoTPmFYge1YRj_U7CaPBzoeYg.JPEG.wls4991%2F%25B4%25D9%25BF%25EE%25B7%25CE%25B5%25E5.jpeg%25A3%25AD4.jpg&type=a340',\n",
       " 'https://search.pstatic.net/common/?src=http%3A%2F%2Fblogfiles.naver.net%2FMjAyMjEwMTZfNDQg%2FMDAxNjY1OTEzMzM4MzQw.-slzSSbHLppl-flpyW-0wBBQj2YpvMjnjndSldUX2wwg.VofVEZ9tryD0Sb4X-hoCJ6Buq1gyM2nSR9YUoxlGy1sg.JPEG.wjdtjdrbs123%2FSNOW%25A3%25DF20221014%25A3%25DF231240%25A3%25DF066.jpg&type=a340',\n",
       " 'https://search.pstatic.net/common/?src=http%3A%2F%2Fimgnews.naver.net%2Fimage%2F213%2F2022%2F11%2F04%2F0001233178_001_20221104101001386.jpg&type=a340',\n",
       " 'https://search.pstatic.net/common/?src=http%3A%2F%2Fimgnews.naver.net%2Fimage%2F076%2F2022%2F10%2F16%2F2022101701000975400061991_20221016120203786.jpg&type=a340',\n",
       " 'https://search.pstatic.net/sunny/?src=https%3A%2F%2Fimg.theqoo.net%2Fimg%2FOYPGo.jpg&type=l340_165',\n",
       " 'https://search.pstatic.net/sunny/?src=https%3A%2F%2Fimg.theqoo.net%2Fimg%2FRnTCa.jpg&type=a340',\n",
       " 'https://search.pstatic.net/common/?src=http%3A%2F%2Fblogfiles.naver.net%2FMjAyMjEwMDRfMTY2%2FMDAxNjY0ODEwMDE5NTU0.5OOTzBK8yBOcT71HvscCKnMQRLqb7RA8WTnjfztt9QUg.a2VRYKrfRz2NeLEuOXvcXAANA3rt9tD-43Jbr9ox-4sg.JPEG.wjdtjdrbs123%2FSNOW%25A3%25DF20220930%25A3%25DF175952%25A3%25DF780.jpg&type=a340',\n",
       " 'https://search.pstatic.net/common/?src=http%3A%2F%2Fimgnews.naver.net%2Fimage%2F5486%2F2022%2F11%2F10%2F0000229414_003_20221110084229431.jpg&type=a340',\n",
       " 'https://search.pstatic.net/sunny/?src=https%3A%2F%2Fimg.theqoo.net%2Fimg%2FVTCkS.jpg&type=a340',\n",
       " 'https://search.pstatic.net/common/?src=http%3A%2F%2Fimgnews.naver.net%2Fimage%2F609%2F2022%2F01%2F27%2F202201272342005510_1_20220127234303326.jpg&type=a340',\n",
       " 'https://search.pstatic.net/sunny/?src=https%3A%2F%2Fi.pinimg.com%2Foriginals%2Fdd%2Fd2%2F67%2Fddd2670c87338a9f498bea99528017a2.jpg&type=a340',\n",
       " 'https://search.pstatic.net/common/?src=http%3A%2F%2Fimgnews.naver.net%2Fimage%2F311%2F2022%2F11%2F07%2F0001521412_001_20221107064101391.jpg&type=l340_165',\n",
       " 'https://search.pstatic.net/common/?src=http%3A%2F%2Fblogfiles.naver.net%2FMjAyMjA4MjNfMTgg%2FMDAxNjYxMjEzMjQ1Mjk2.v_rxr1WwGLh81rMQiDGpUmK4B2xa0gwcg5LAr9MPnFEg.rf70yV_3-vvBpgLR_fBWmSfoQ0q3fzJX5xaLP-Ty5isg.JPEG.gydls004%2FInternet%25A3%25DF20220823%25A3%25DF090541%25A3%25DF9.jpeg&type=a340',\n",
       " 'https://search.pstatic.net/common/?src=http%3A%2F%2Fimgnews.naver.net%2Fimage%2F5041%2F2022%2F11%2F10%2F20221110580422_20221110151402927.png&type=a340',\n",
       " 'https://search.pstatic.net/common/?src=http%3A%2F%2Fimgnews.naver.net%2Fimage%2F008%2F2022%2F10%2F16%2F0004806254_001_20221016222501032.jpg&type=a340',\n",
       " 'https://search.pstatic.net/common/?src=http%3A%2F%2Fblogfiles.naver.net%2FMjAyMjAzMjBfMjg1%2FMDAxNjQ3NzU4MDM0NTkw.So0P1R01iJhNQMSSvEIDbihWfALQreOwlgZS-mQZLa0g.WE0Hhqu7mzy8zWk4SexPKrAqufptYHSqz-pv3d2QsLQg.JPEG.wjdtjdrbs123%2FSNOW%25A3%25DF20220320%25A3%25DF150002%25A3%25DF388.jpg&type=a340',\n",
       " 'https://search.pstatic.net/common/?src=http%3A%2F%2Fblogfiles.naver.net%2FMjAyMjEwMjNfNjEg%2FMDAxNjY2NTE2MTI1MjIx.oa-9YqMM8YLpXA1AU5ZH_3t5nFoH0kTBhD9ZS7a95fIg.-ZwOKvsGhLaZfoHyvrMbEglE1f_nO0n89XF8jEGg88gg.JPEG.wjdtjdrbs123%2FSNOW%25A3%25DF20221023%25A3%25DF180755%25A3%25DF343.jpg&type=a340',\n",
       " 'https://search.pstatic.net/common/?src=http%3A%2F%2Fblogfiles.naver.net%2FMjAyMjEwMTdfMTA5%2FMDAxNjY1OTc1NjMyNjg0.CB0roJBO2pXjbLhoY5tinTRjnyFAQ2HL3Yb9R1eptx8g.x5mQoMrYpzc9XOYOO7MDn0u-9FsuJ67N_-xlVDTHVnwg.PNG.lthrk035%2F20221017_120018.png%2Fundefined&type=a340',\n",
       " 'https://search.pstatic.net/common/?src=http%3A%2F%2Fblogfiles.naver.net%2FMjAyMjA4MjNfMTI5%2FMDAxNjYxMjU4MTI2MTU2.MxHvM8q1jvsNvIOZXN76Wd8pufOVItkfN1HfPTvYZDIg.mR_5b6ffdBNtEi0JbaHYzcKHTp2VzvyxqCI0IuT0HQUg.JPEG.leekm5306%2FIMG_0538.jpg&type=a340',\n",
       " 'data:image/gif;base64,R0lGODlhAQABAIAAAAAAAP///yH5BAEAAAAALAAAAAABAAEAAAIBRAA7',\n",
       " 'data:image/gif;base64,R0lGODlhAQABAIAAAAAAAP///yH5BAEAAAAALAAAAAABAAEAAAIBRAA7',\n",
       " 'data:image/gif;base64,R0lGODlhAQABAIAAAAAAAP///yH5BAEAAAAALAAAAAABAAEAAAIBRAA7',\n",
       " 'data:image/gif;base64,R0lGODlhAQABAIAAAAAAAP///yH5BAEAAAAALAAAAAABAAEAAAIBRAA7',\n",
       " 'data:image/gif;base64,R0lGODlhAQABAIAAAAAAAP///yH5BAEAAAAALAAAAAABAAEAAAIBRAA7',\n",
       " 'data:image/gif;base64,R0lGODlhAQABAIAAAAAAAP///yH5BAEAAAAALAAAAAABAAEAAAIBRAA7',\n",
       " 'data:image/gif;base64,R0lGODlhAQABAIAAAAAAAP///yH5BAEAAAAALAAAAAABAAEAAAIBRAA7',\n",
       " 'data:image/gif;base64,R0lGODlhAQABAIAAAAAAAP///yH5BAEAAAAALAAAAAABAAEAAAIBRAA7',\n",
       " 'data:image/gif;base64,R0lGODlhAQABAIAAAAAAAP///yH5BAEAAAAALAAAAAABAAEAAAIBRAA7',\n",
       " 'data:image/gif;base64,R0lGODlhAQABAIAAAAAAAP///yH5BAEAAAAALAAAAAABAAEAAAIBRAA7',\n",
       " 'data:image/gif;base64,R0lGODlhAQABAIAAAAAAAP///yH5BAEAAAAALAAAAAABAAEAAAIBRAA7',\n",
       " 'data:image/gif;base64,R0lGODlhAQABAIAAAAAAAP///yH5BAEAAAAALAAAAAABAAEAAAIBRAA7',\n",
       " 'data:image/gif;base64,R0lGODlhAQABAIAAAAAAAP///yH5BAEAAAAALAAAAAABAAEAAAIBRAA7',\n",
       " 'data:image/gif;base64,R0lGODlhAQABAIAAAAAAAP///yH5BAEAAAAALAAAAAABAAEAAAIBRAA7',\n",
       " 'data:image/gif;base64,R0lGODlhAQABAIAAAAAAAP///yH5BAEAAAAALAAAAAABAAEAAAIBRAA7',\n",
       " 'data:image/gif;base64,R0lGODlhAQABAIAAAAAAAP///yH5BAEAAAAALAAAAAABAAEAAAIBRAA7',\n",
       " 'data:image/gif;base64,R0lGODlhAQABAIAAAAAAAP///yH5BAEAAAAALAAAAAABAAEAAAIBRAA7',\n",
       " 'data:image/gif;base64,R0lGODlhAQABAIAAAAAAAP///yH5BAEAAAAALAAAAAABAAEAAAIBRAA7',\n",
       " 'data:image/gif;base64,R0lGODlhAQABAIAAAAAAAP///yH5BAEAAAAALAAAAAABAAEAAAIBRAA7',\n",
       " 'data:image/gif;base64,R0lGODlhAQABAIAAAAAAAP///yH5BAEAAAAALAAAAAABAAEAAAIBRAA7',\n",
       " 'data:image/gif;base64,R0lGODlhAQABAIAAAAAAAP///yH5BAEAAAAALAAAAAABAAEAAAIBRAA7',\n",
       " 'data:image/gif;base64,R0lGODlhAQABAIAAAAAAAP///yH5BAEAAAAALAAAAAABAAEAAAIBRAA7']"
      ]
     },
     "execution_count": 10,
     "metadata": {},
     "output_type": "execute_result"
    }
   ],
   "source": [
    "imgUrl"
   ]
  },
  {
   "cell_type": "code",
   "execution_count": 17,
   "id": "5a738abc",
   "metadata": {},
   "outputs": [],
   "source": [
    "# 1. 폴더 생성 os 라이브러리\n",
    "# 바탕화면에 이미지폴더가 없다면, 바탕화면에 이미지폴더 만들어라 ~\n",
    "if not os.path.isdir(\"C:/Users/jsm03/OneDrive - 성균관대학교/바탕 화면/이미지\"):\n",
    "    os.mkdir(\"C:/Users/jsm03/OneDrive - 성균관대학교/바탕 화면/이미지\")"
   ]
  },
  {
   "cell_type": "code",
   "execution_count": 18,
   "id": "0dffb124",
   "metadata": {},
   "outputs": [],
   "source": [
    "# 2. url 경로값 이미지 폴더에 파일들 저장\n",
    "cnt=0;\n",
    "for i in imgUrl:\n",
    "    urlretrieve(i,\"C:/Users/jsm03/OneDrive - 성균관대학교/바탕 화면/이미지/\"+str(cnt)+\".jpg\")\n",
    "    cnt+=1"
   ]
  },
  {
   "cell_type": "code",
   "execution_count": null,
   "id": "8ce8fd1e",
   "metadata": {},
   "outputs": [],
   "source": []
  }
 ],
 "metadata": {
  "kernelspec": {
   "display_name": "Python 3 (ipykernel)",
   "language": "python",
   "name": "python3"
  },
  "language_info": {
   "codemirror_mode": {
    "name": "ipython",
    "version": 3
   },
   "file_extension": ".py",
   "mimetype": "text/x-python",
   "name": "python",
   "nbconvert_exporter": "python",
   "pygments_lexer": "ipython3",
   "version": "3.9.7"
  }
 },
 "nbformat": 4,
 "nbformat_minor": 5
}
